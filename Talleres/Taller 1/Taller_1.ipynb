{
  "nbformat": 4,
  "nbformat_minor": 0,
  "metadata": {
    "colab": {
      "provenance": []
    },
    "kernelspec": {
      "name": "python3",
      "display_name": "Python 3"
    },
    "language_info": {
      "name": "python"
    }
  },
  "cells": [
    {
      "cell_type": "markdown",
      "source": [
        "![image](https://docs.google.com/uc?export=download&id=1NUy1Q-abpoV9XYK9qT9t8Mdhj3ZVlveO)"
      ],
      "metadata": {
        "id": "znKNaJnn_ipc"
      }
    },
    {
      "cell_type": "markdown",
      "metadata": {
        "id": "NkCYoS7vchGU"
      },
      "source": [
        "\n",
        "# **Taller 1**\n",
        "\n",
        "- **Integrante 1:**\n",
        "- **Integrante 2:**\n",
        "\n",
        "### **Problemática**:\n",
        "En un entorno clínico, los profesionales de la salud enfrentan el desafío de interpretar los resultados de las pruebas médicas de manera rápida y precisa para tomar decisiones informadas sobre el tratamiento y el seguimiento de los pacientes. Sin embargo, debido a la gran cantidad de datos y la complejidad de las condiciones médicas, esta tarea resulta muy tediosa.\n",
        "\n",
        "Problema específico: Los resultados de las pruebas médicas, que se describen como \"Normal,\" \"Anormal,\" o \"Inconcluso,\" deben ser interpretados con precisión para determinar la necesidad de seguimiento adicional o tratamiento especializado.\n",
        "        \n",
        "Los datos y el diccionario de datos lo pueden encontrar [acá](https://www.kaggle.com/datasets/prasad22/healthcare-dataset/data).\n",
        "\n",
        "&nbsp;\n",
        "\n",
        "### **Preguntas:**\n",
        "1. Realice el debido preprocesamiento de los datos, feature engineering, EDA, Encoding Techniques, etc... Dentro de un pipeline que almacene todo el proceso.\n",
        "\n",
        "2. Genere un modelo MLP base de predicción. Confirme si su modelo generaliza bien, o si presenta sobreajuste o subajuste. Si es alguna de las dos últimas opciones, ¿qué opciones propone para que la red MLP generalice mejor?\n",
        "\n",
        "3. Realice una búsqueda de hiperparámetros para encontrar el mejor modelo. Documentarlo en un cuadro comparativon con el modelo base del punto anterior.\n",
        "\n",
        "4. ¿Cómo podemos mejorar el tiempo de entrenamiento de los modelos? ¿Que es el EarlyStopping y cómo se puede automatizar utilizando callback? Está pregunta es más teórica, pero pueden incluir código si lo creen necesario.\n",
        "\n",
        "### NOTA IMPORTANTE\n",
        "- El archivo a presentar debe ser en formato .ipynb o HTML ya ejecutado. Celda que no esté ejecutada no se podrá evaluar.\n",
        "- El nombre del archivo debe ser `taller_1_{Apellido_Nombre}_{Apellido_Nombre}` de cada integrante respectivamente."
      ]
    },
    {
      "cell_type": "code",
      "source": [],
      "metadata": {
        "id": "n5vsBQhleBGM"
      },
      "execution_count": null,
      "outputs": []
    }
  ]
}