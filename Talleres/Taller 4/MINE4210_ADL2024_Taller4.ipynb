{
  "nbformat": 4,
  "nbformat_minor": 0,
  "metadata": {
    "colab": {
      "provenance": []
    },
    "kernelspec": {
      "name": "python3",
      "display_name": "Python 3"
    },
    "language_info": {
      "name": "python"
    }
  },
  "cells": [
    {
      "cell_type": "markdown",
      "source": [
        "<a href=\"https://colab.research.google.com/github/fcastellanosp/MINE-4210_202420_ADL/blob/main/Talleres/Taller%204/MINE4210_ADL2024_Taller4.ipynb\" target=\"_parent\"><img src=\"https://colab.research.google.com/assets/colab-badge.svg\" alt=\"Open In Colab\"/></a>"
      ],
      "metadata": {
        "id": "nad1GmxNGWmu"
      }
    },
    {
      "cell_type": "markdown",
      "source": [
        "![Logo ADL](https://github.com/fcastellanosp/MINE-4210_202420_ADL/blob/main/Laboratorios/logo_adl.png?raw=true)"
      ],
      "metadata": {
        "id": "reGF8HU5K47_"
      }
    },
    {
      "cell_type": "markdown",
      "source": [
        "# **Taller 4**\n",
        "\n",
        "- **Integrante 1:**\n",
        "- **Integrante 2:**\n"
      ],
      "metadata": {
        "id": "UFOvuzbfK7wf"
      }
    },
    {
      "cell_type": "markdown",
      "source": [
        "Con el aumento de información en redes sociales sobre la viruela del mono, se ha observado que algunas publicaciones reflejan un alto nivel de ansiedad en las personas, mientras que otras son más informativas o neutrales. Esto puede dificultar la identificación de preocupaciones reales de la comunidad en tiempo real, lo cual es crucial para que las autoridades de salud pública respondan de manera rápida y efectiva.\n",
        "\n",
        "Ahora bien, como objetivo se quiere desarrollar un modelo de clasificación de textos con arquitectura BERT que permita asegurar si el contenido hace referencia a un comentario neutral o tiene ciertas connotaciones a estrés o ansiedad, con el fin de identificar las preocupaciones de la comunidad.\n",
        "\n",
        "Los datos se encuentran en la carpeta de taller 4 del repositorio."
      ],
      "metadata": {
        "id": "qcX4ilPiIQt9"
      }
    },
    {
      "cell_type": "markdown",
      "source": [
        "## **Preguntas:**"
      ],
      "metadata": {
        "id": "ppuHfmVxsmly"
      }
    },
    {
      "cell_type": "markdown",
      "source": [
        "1. Realizar el entendimiento de los datos (longitud de frases, word clouds, etc...)\n",
        "2. Utilizar dos redes preentrenada de arquitectura BERT (pueden usar cualquiera dentro de Hugging Face) y acoplarlas a un modelo de clasificación para solucionar el problema. Además compare los resultados obtenidos y concluya indicando cuál le recomendaría al negocio y por qué.\n",
        "3. Realice una ligera búsqueda de hiperparámetros, donde justifique el por qué de esa selección y compare los resultados con ambos modelos del punto anterior."
      ],
      "metadata": {
        "id": "RqyR4HfnspAr"
      }
    },
    {
      "cell_type": "markdown",
      "source": [
        "## **Notas Importantes:**\n",
        "- El proceso propuesto debe estar debidamente codificado y justificado en cada una de las decisiones tomadas.\n",
        "- La propuesta realizada es propia de cada grupo, no deben generarse procesos iguales con otros grupos de trabajo.\n",
        "- No es necesario repetir el código implementado en la primera versión, debes trabajar en las mejoras/optimizaciones específicamente.\n",
        "- El archivo a presentar debe ser en formato .ipynb o HTML ya ejecutado. Celda que no esté ejecutada no se podrá evaluar.\n",
        "- El nombre del archivo debe ser `Taller_4_{Apellido_Nombre}_{Apellido_Nombre}` de cada integrante respectivamente."
      ],
      "metadata": {
        "id": "_Gx2s60RLNFs"
      }
    }
  ]
}